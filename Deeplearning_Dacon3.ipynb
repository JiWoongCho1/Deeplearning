{
 "cells": [
  {
   "cell_type": "code",
   "execution_count": 7,
   "id": "944554de",
   "metadata": {},
   "outputs": [],
   "source": [
    "import numpy as np\n",
    "import pandas as pd\n",
    "import matplotlib.pyplot as plt\n",
    "from keras.preprocessing import image\n",
    "from keras.preprocessing.image import ImageDataGenerator\n",
    "import os\n",
    "import shutil\n",
    "from pathlib import Path\n",
    "import cv2\n",
    "from glob import glob\n",
    "from PIL import Image\n",
    "from keras import layers\n",
    "from keras import models\n",
    "from tensorflow.keras.callbacks import ModelCheckpoint\n",
    "from tensorflow.keras.callbacks import EarlyStopping\n",
    "import tensorflow as tf\n",
    "from sklearn.model_selection import StratifiedKFold"
   ]
  },
  {
   "cell_type": "markdown",
   "id": "b26fc9cd",
   "metadata": {},
   "source": [
    "# 데이콘 이상치 탐색\n",
    "\n",
    "**https://dacon.io/competitions/official/235894/overview/description**"
   ]
  },
  {
   "cell_type": "code",
   "execution_count": 4,
   "id": "9ae36594",
   "metadata": {},
   "outputs": [],
   "source": [
    "path = \"C:/Users/choij/Desktop/datasets/open/open/train/train/\"\n",
    "#train dataset 위치"
   ]
  },
  {
   "cell_type": "code",
   "execution_count": 5,
   "id": "58387973",
   "metadata": {},
   "outputs": [],
   "source": [
    "path2 = 'C:/Users/choij/Desktop/datasets/open/open/test/test/'\n",
    "#test 데이터셋 위치"
   ]
  },
  {
   "cell_type": "markdown",
   "id": "d0a8a1b2",
   "metadata": {},
   "source": [
    "## 데이터 전처리"
   ]
  },
  {
   "cell_type": "code",
   "execution_count": 8,
   "id": "1f008e0c",
   "metadata": {
    "scrolled": false
   },
   "outputs": [
    {
     "data": {
      "text/html": [
       "<div>\n",
       "<style scoped>\n",
       "    .dataframe tbody tr th:only-of-type {\n",
       "        vertical-align: middle;\n",
       "    }\n",
       "\n",
       "    .dataframe tbody tr th {\n",
       "        vertical-align: top;\n",
       "    }\n",
       "\n",
       "    .dataframe thead th {\n",
       "        text-align: right;\n",
       "    }\n",
       "</style>\n",
       "<table border=\"1\" class=\"dataframe\">\n",
       "  <thead>\n",
       "    <tr style=\"text-align: right;\">\n",
       "      <th></th>\n",
       "      <th>index</th>\n",
       "      <th>file_name</th>\n",
       "      <th>class</th>\n",
       "      <th>state</th>\n",
       "      <th>label</th>\n",
       "    </tr>\n",
       "  </thead>\n",
       "  <tbody>\n",
       "    <tr>\n",
       "      <th>0</th>\n",
       "      <td>0</td>\n",
       "      <td>10000.png</td>\n",
       "      <td>transistor</td>\n",
       "      <td>good</td>\n",
       "      <td>transistor-good</td>\n",
       "    </tr>\n",
       "    <tr>\n",
       "      <th>1</th>\n",
       "      <td>1</td>\n",
       "      <td>10001.png</td>\n",
       "      <td>capsule</td>\n",
       "      <td>good</td>\n",
       "      <td>capsule-good</td>\n",
       "    </tr>\n",
       "    <tr>\n",
       "      <th>2</th>\n",
       "      <td>2</td>\n",
       "      <td>10002.png</td>\n",
       "      <td>transistor</td>\n",
       "      <td>good</td>\n",
       "      <td>transistor-good</td>\n",
       "    </tr>\n",
       "    <tr>\n",
       "      <th>3</th>\n",
       "      <td>3</td>\n",
       "      <td>10003.png</td>\n",
       "      <td>wood</td>\n",
       "      <td>good</td>\n",
       "      <td>wood-good</td>\n",
       "    </tr>\n",
       "    <tr>\n",
       "      <th>4</th>\n",
       "      <td>4</td>\n",
       "      <td>10004.png</td>\n",
       "      <td>bottle</td>\n",
       "      <td>good</td>\n",
       "      <td>bottle-good</td>\n",
       "    </tr>\n",
       "    <tr>\n",
       "      <th>...</th>\n",
       "      <td>...</td>\n",
       "      <td>...</td>\n",
       "      <td>...</td>\n",
       "      <td>...</td>\n",
       "      <td>...</td>\n",
       "    </tr>\n",
       "    <tr>\n",
       "      <th>4272</th>\n",
       "      <td>4272</td>\n",
       "      <td>14272.png</td>\n",
       "      <td>transistor</td>\n",
       "      <td>good</td>\n",
       "      <td>transistor-good</td>\n",
       "    </tr>\n",
       "    <tr>\n",
       "      <th>4273</th>\n",
       "      <td>4273</td>\n",
       "      <td>14273.png</td>\n",
       "      <td>transistor</td>\n",
       "      <td>good</td>\n",
       "      <td>transistor-good</td>\n",
       "    </tr>\n",
       "    <tr>\n",
       "      <th>4274</th>\n",
       "      <td>4274</td>\n",
       "      <td>14274.png</td>\n",
       "      <td>grid</td>\n",
       "      <td>good</td>\n",
       "      <td>grid-good</td>\n",
       "    </tr>\n",
       "    <tr>\n",
       "      <th>4275</th>\n",
       "      <td>4275</td>\n",
       "      <td>14275.png</td>\n",
       "      <td>zipper</td>\n",
       "      <td>good</td>\n",
       "      <td>zipper-good</td>\n",
       "    </tr>\n",
       "    <tr>\n",
       "      <th>4276</th>\n",
       "      <td>4276</td>\n",
       "      <td>14276.png</td>\n",
       "      <td>screw</td>\n",
       "      <td>good</td>\n",
       "      <td>screw-good</td>\n",
       "    </tr>\n",
       "  </tbody>\n",
       "</table>\n",
       "<p>4277 rows × 5 columns</p>\n",
       "</div>"
      ],
      "text/plain": [
       "      index  file_name       class state            label\n",
       "0         0  10000.png  transistor  good  transistor-good\n",
       "1         1  10001.png     capsule  good     capsule-good\n",
       "2         2  10002.png  transistor  good  transistor-good\n",
       "3         3  10003.png        wood  good        wood-good\n",
       "4         4  10004.png      bottle  good      bottle-good\n",
       "...     ...        ...         ...   ...              ...\n",
       "4272   4272  14272.png  transistor  good  transistor-good\n",
       "4273   4273  14273.png  transistor  good  transistor-good\n",
       "4274   4274  14274.png        grid  good        grid-good\n",
       "4275   4275  14275.png      zipper  good      zipper-good\n",
       "4276   4276  14276.png       screw  good       screw-good\n",
       "\n",
       "[4277 rows x 5 columns]"
      ]
     },
     "execution_count": 8,
     "metadata": {},
     "output_type": "execute_result"
    }
   ],
   "source": [
    "df = pd.read_csv(\"C:/Users/choij/Desktop/datasets/open/open/train_df.csv\")\n",
    "df #1024 * 1024 * 3 형식의 이미지들"
   ]
  },
  {
   "cell_type": "code",
   "execution_count": 9,
   "id": "40458aa8",
   "metadata": {
    "scrolled": true
   },
   "outputs": [
    {
     "name": "stdout",
     "output_type": "stream",
     "text": [
      "49\n",
      "15\n",
      "88\n"
     ]
    }
   ],
   "source": [
    "print(len(df['state'].value_counts())) \n",
    "print(len(df['class'].value_counts())) \n",
    "print(len(df['label'].value_counts())) # 88개의 클래스 분류"
   ]
  },
  {
   "cell_type": "code",
   "execution_count": 10,
   "id": "ea59de04",
   "metadata": {},
   "outputs": [
    {
     "data": {
      "text/plain": [
       "hazelnut-good              391\n",
       "screw-good                 320\n",
       "carpet-good                280\n",
       "pill-good                  267\n",
       "grid-good                  264\n",
       "                          ... \n",
       "cable-poke_insulation        5\n",
       "pill-pill_type               5\n",
       "transistor-damaged_case      5\n",
       "transistor-bent_lead         5\n",
       "wood-color                   4\n",
       "Name: label, Length: 88, dtype: int64"
      ]
     },
     "execution_count": 10,
     "metadata": {},
     "output_type": "execute_result"
    }
   ],
   "source": [
    "df['label'].value_counts()"
   ]
  },
  {
   "cell_type": "code",
   "execution_count": 11,
   "id": "f5adc1f3",
   "metadata": {},
   "outputs": [],
   "source": [
    "df = df.drop(['class','state' , 'file_name'], axis = 1)"
   ]
  },
  {
   "cell_type": "code",
   "execution_count": 12,
   "id": "8c14822c",
   "metadata": {
    "scrolled": true
   },
   "outputs": [
    {
     "data": {
      "text/html": [
       "<div>\n",
       "<style scoped>\n",
       "    .dataframe tbody tr th:only-of-type {\n",
       "        vertical-align: middle;\n",
       "    }\n",
       "\n",
       "    .dataframe tbody tr th {\n",
       "        vertical-align: top;\n",
       "    }\n",
       "\n",
       "    .dataframe thead th {\n",
       "        text-align: right;\n",
       "    }\n",
       "</style>\n",
       "<table border=\"1\" class=\"dataframe\">\n",
       "  <thead>\n",
       "    <tr style=\"text-align: right;\">\n",
       "      <th></th>\n",
       "      <th>index</th>\n",
       "      <th>label</th>\n",
       "    </tr>\n",
       "  </thead>\n",
       "  <tbody>\n",
       "    <tr>\n",
       "      <th>0</th>\n",
       "      <td>0</td>\n",
       "      <td>transistor-good</td>\n",
       "    </tr>\n",
       "    <tr>\n",
       "      <th>1</th>\n",
       "      <td>1</td>\n",
       "      <td>capsule-good</td>\n",
       "    </tr>\n",
       "    <tr>\n",
       "      <th>2</th>\n",
       "      <td>2</td>\n",
       "      <td>transistor-good</td>\n",
       "    </tr>\n",
       "    <tr>\n",
       "      <th>3</th>\n",
       "      <td>3</td>\n",
       "      <td>wood-good</td>\n",
       "    </tr>\n",
       "    <tr>\n",
       "      <th>4</th>\n",
       "      <td>4</td>\n",
       "      <td>bottle-good</td>\n",
       "    </tr>\n",
       "  </tbody>\n",
       "</table>\n",
       "</div>"
      ],
      "text/plain": [
       "   index            label\n",
       "0      0  transistor-good\n",
       "1      1     capsule-good\n",
       "2      2  transistor-good\n",
       "3      3        wood-good\n",
       "4      4      bottle-good"
      ]
     },
     "execution_count": 12,
     "metadata": {},
     "output_type": "execute_result"
    }
   ],
   "source": [
    "df.head()"
   ]
  },
  {
   "cell_type": "code",
   "execution_count": 13,
   "id": "e73c826b",
   "metadata": {
    "scrolled": true
   },
   "outputs": [
    {
     "data": {
      "text/plain": [
       "array(['bottle-broken_large', 'bottle-broken_small',\n",
       "       'bottle-contamination', 'bottle-good', 'cable-bent_wire',\n",
       "       'cable-cable_swap', 'cable-combined', 'cable-cut_inner_insulation',\n",
       "       'cable-cut_outer_insulation', 'cable-good', 'cable-missing_cable',\n",
       "       'cable-missing_wire', 'cable-poke_insulation', 'capsule-crack',\n",
       "       'capsule-faulty_imprint', 'capsule-good', 'capsule-poke',\n",
       "       'capsule-scratch', 'capsule-squeeze', 'carpet-color', 'carpet-cut',\n",
       "       'carpet-good', 'carpet-hole', 'carpet-metal_contamination',\n",
       "       'carpet-thread', 'grid-bent', 'grid-broken', 'grid-glue',\n",
       "       'grid-good', 'grid-metal_contamination', 'grid-thread',\n",
       "       'hazelnut-crack', 'hazelnut-cut', 'hazelnut-good', 'hazelnut-hole',\n",
       "       'hazelnut-print', 'leather-color', 'leather-cut', 'leather-fold',\n",
       "       'leather-glue', 'leather-good', 'leather-poke', 'metal_nut-bent',\n",
       "       'metal_nut-color', 'metal_nut-flip', 'metal_nut-good',\n",
       "       'metal_nut-scratch', 'pill-color', 'pill-combined',\n",
       "       'pill-contamination', 'pill-crack', 'pill-faulty_imprint',\n",
       "       'pill-good', 'pill-pill_type', 'pill-scratch', 'screw-good',\n",
       "       'screw-manipulated_front', 'screw-scratch_head',\n",
       "       'screw-scratch_neck', 'screw-thread_side', 'screw-thread_top',\n",
       "       'tile-crack', 'tile-glue_strip', 'tile-good', 'tile-gray_stroke',\n",
       "       'tile-oil', 'tile-rough', 'toothbrush-defective',\n",
       "       'toothbrush-good', 'transistor-bent_lead', 'transistor-cut_lead',\n",
       "       'transistor-damaged_case', 'transistor-good',\n",
       "       'transistor-misplaced', 'wood-color', 'wood-combined', 'wood-good',\n",
       "       'wood-hole', 'wood-liquid', 'wood-scratch', 'zipper-broken_teeth',\n",
       "       'zipper-combined', 'zipper-fabric_border',\n",
       "       'zipper-fabric_interior', 'zipper-good', 'zipper-rough',\n",
       "       'zipper-split_teeth', 'zipper-squeezed_teeth'], dtype=object)"
      ]
     },
     "execution_count": 13,
     "metadata": {},
     "output_type": "execute_result"
    }
   ],
   "source": [
    "categories = np.unique(df['label'])\n",
    "categories #클래스 집합 리스트"
   ]
  },
  {
   "cell_type": "code",
   "execution_count": 14,
   "id": "242b8b01",
   "metadata": {},
   "outputs": [
    {
     "data": {
      "text/plain": [
       "88"
      ]
     },
     "execution_count": 14,
     "metadata": {},
     "output_type": "execute_result"
    }
   ],
   "source": [
    "nb_classes = len(categories)\n",
    "nb_classes\n",
    "#https://velog.io/@jaehyeong/CNN-%EB%AA%A8%EB%8D%B8%EC%9D%84-%ED%86%B5%ED%95%9C-%EC%9E%90%EB%8F%99%EC%B0%A8-%EC%82%AC%EA%B3%A0-%EC%9D%B4%EB%AF%B8%EC%A7%80-%EB%B6%84%EB%A5%98"
   ]
  },
  {
   "cell_type": "code",
   "execution_count": 15,
   "id": "4b13e51c",
   "metadata": {},
   "outputs": [],
   "source": [
    "base_dir = \"C:/Users/choij/Desktop/datasets/open/open/train/small_train\""
   ]
  },
  {
   "cell_type": "code",
   "execution_count": 16,
   "id": "59e1f625",
   "metadata": {},
   "outputs": [],
   "source": [
    "test_base_dir = \"C:/Users/choij/Desktop/datasets/open/open/test/small_test\""
   ]
  },
  {
   "cell_type": "code",
   "execution_count": 79,
   "id": "74ffc97b",
   "metadata": {
    "scrolled": true
   },
   "outputs": [],
   "source": [
    "os.mkdir(base_dir)"
   ]
  },
  {
   "cell_type": "code",
   "execution_count": 121,
   "id": "3f370414",
   "metadata": {},
   "outputs": [],
   "source": [
    "os.mkdir(test_base_dir)"
   ]
  },
  {
   "cell_type": "code",
   "execution_count": 17,
   "id": "700f694f",
   "metadata": {},
   "outputs": [],
   "source": [
    "fname_list = os.listdir(base_dir)"
   ]
  },
  {
   "cell_type": "code",
   "execution_count": 18,
   "id": "da16ab4f",
   "metadata": {
    "scrolled": false
   },
   "outputs": [
    {
     "data": {
      "text/plain": [
       "'C:/Users/choij/Desktop/datasets/open/open/train/small_train/'"
      ]
     },
     "execution_count": 18,
     "metadata": {},
     "output_type": "execute_result"
    }
   ],
   "source": [
    "base = base_dir + '/'\n",
    "base"
   ]
  },
  {
   "cell_type": "code",
   "execution_count": 19,
   "id": "1cae8691",
   "metadata": {},
   "outputs": [],
   "source": [
    "test_base = test_base_dir + '/'"
   ]
  },
  {
   "cell_type": "code",
   "execution_count": 80,
   "id": "2aaec54a",
   "metadata": {},
   "outputs": [],
   "source": [
    "for fname in categories:\n",
    "    fnames = os.path.join(base_dir, fname)\n",
    "    os.mkdir(fnames) # class 별로 폴더 생성"
   ]
  },
  {
   "cell_type": "code",
   "execution_count": 124,
   "id": "a6b8d300",
   "metadata": {},
   "outputs": [],
   "source": [
    "for fname in categories:\n",
    "    fnames = os.path.join(test_base_dir, fname)\n",
    "    os.mkdir(fnames)"
   ]
  },
  {
   "cell_type": "code",
   "execution_count": 20,
   "id": "87120765",
   "metadata": {},
   "outputs": [],
   "source": [
    "format = [\".jpg\",\".png\",\".jpeg\",\"bmp\",\".JPG\",\".PNG\",\"JPEG\",\"BMP\"]"
   ]
  },
  {
   "cell_type": "code",
   "execution_count": 50,
   "id": "cf3b9c39",
   "metadata": {
    "scrolled": true
   },
   "outputs": [],
   "source": [
    "for (path, dirs, files) in os.walk(path):\n",
    "    for file in files:\n",
    "        if file.endswith(tuple(format)):\n",
    "            image = Image.open(path+\"/\"+file)\n",
    "            image=image.resize((int(image.size[0]*0.2), int(image.size[1]*0.2)))\n",
    "            image.save(path+\"/\"+file)\n",
    "        else:\n",
    "            print(path)\n",
    "            print(\"InValid\",file) # 훈련 파일크기 작게"
   ]
  },
  {
   "cell_type": "code",
   "execution_count": 51,
   "id": "eba3a71b",
   "metadata": {},
   "outputs": [],
   "source": [
    "for (path, dirs, files) in os.walk(path2):\n",
    "    for file in files:\n",
    "        if file.endswith(tuple(format)):\n",
    "            image = Image.open(path+\"/\"+file)\n",
    "            image=image.resize((int(image.size[0]*0.2), int(image.size[1]*0.2)))\n",
    "            image.save(path+\"/\"+file)\n",
    "\n",
    "        else:\n",
    "            print(path)\n",
    "            print(\"InValid\",file) # 테스트 파일크기 작게"
   ]
  },
  {
   "cell_type": "code",
   "execution_count": 84,
   "id": "52ecac9a",
   "metadata": {
    "scrolled": false
   },
   "outputs": [],
   "source": [
    "for idx in range(len(os.listdir(path))): #0~4277 반복하면서 훈련 이미지 복사\n",
    "    index = 10000\n",
    "    for fname in fname_list: #폴더 리스트 \n",
    "        if df['label'][idx] == fname:\n",
    "            index += idx\n",
    "            index = str(index) + '.png' \n",
    "            path_dir = base_dir + '/'+ fname\n",
    "            shutil.copyfile(path+index, path_dir + '/' + str(index) + '.png')"
   ]
  },
  {
   "cell_type": "code",
   "execution_count": 132,
   "id": "c384dd1d",
   "metadata": {},
   "outputs": [],
   "source": [
    "for idx in range(len(os.listdir(path2))): #0~4277 반복 테스트 이미지 복사\n",
    "    index = 20000\n",
    "    for fname in fname_list: #폴더 리스트 1개씩 흘음 \n",
    "        if df['label'][idx] == fname:\n",
    "            index += idx\n",
    "            index = str(index) + '.png' \n",
    "            path_dir = test_base_dir + '/'+ fname\n",
    "            shutil.copyfile(path2+index, path_dir + '/' + str(index))"
   ]
  },
  {
   "cell_type": "code",
   "execution_count": 22,
   "id": "bd1aa64b",
   "metadata": {},
   "outputs": [],
   "source": [
    "def CustomModel():\n",
    "    model = models.Sequential()\n",
    "\n",
    "    model.add(layers.Conv2D(32, (5,5), activation = 'relu', input_shape = (150,150,3)))\n",
    "    model.add(layers.BatchNormalization())\n",
    "    model.add(layers.MaxPooling2D(2,2))\n",
    "\n",
    "    model.add(layers.Conv2D(32, (5,5), activation = 'relu'))\n",
    "    model.add(layers.BatchNormalization())\n",
    "    model.add(layers.MaxPooling2D(2,2))\n",
    "\n",
    "    model.add(layers.Conv2D(64, (5,5), activation = 'relu'))\n",
    "    model.add(layers.BatchNormalization())\n",
    "    model.add(layers.MaxPooling2D(2,2))\n",
    "\n",
    "    model.add(layers.Conv2D(64, (1,1), activation = 'relu'))\n",
    "    model.add(layers.BatchNormalization())\n",
    "    model.add(layers.MaxPooling2D(2,2))\n",
    "\n",
    "    model.add(layers.Conv2D(128, (5,5), activation = 'relu'))\n",
    "    model.add(layers.BatchNormalization())\n",
    "    model.add(layers.MaxPooling2D(2,2))\n",
    "    model.add(layers.Dropout(0.5))\n",
    "\n",
    "    model.add(layers.Flatten())\n",
    "    model.add(layers.Dense(128, activation = 'relu'))\n",
    "    model.add(layers.Dense(88, activation = 'softmax'))\n",
    "    return model"
   ]
  },
  {
   "cell_type": "code",
   "execution_count": 52,
   "id": "dcd87e0f",
   "metadata": {},
   "outputs": [],
   "source": [
    "image_w = 150\n",
    "image_h = 150\n",
    "\n",
    "X = []\n",
    "Y = []\n",
    "\n",
    "for idx, cat in enumerate(categories):\n",
    "    label = [0 for i in range(nb_classes)]\n",
    "    label[idx] = 1\n",
    "    \n",
    "    files = glob(base_dir + '/' + cat + '/*.png')\n",
    "    for i, f in enumerate(files):\n",
    "        img = Image.open(f)\n",
    "        img = img.convert('RGB')\n",
    "        img = img.resize((image_w, image_h))\n",
    "        data = np.asarray(img)\n",
    "        X.append(data)\n",
    "        Y.append(label)"
   ]
  },
  {
   "cell_type": "code",
   "execution_count": 24,
   "id": "f0e02fcc",
   "metadata": {},
   "outputs": [
    {
     "name": "stdout",
     "output_type": "stream",
     "text": [
      "(4277, 150, 150, 3)\n",
      "(4277, 88)\n"
     ]
    }
   ],
   "source": [
    "X = np.array(X)\n",
    "Y = np.array(Y)\n",
    "\n",
    "print(X.shape)\n",
    "print(Y.shape)"
   ]
  },
  {
   "cell_type": "code",
   "execution_count": 25,
   "id": "75be4268",
   "metadata": {},
   "outputs": [],
   "source": [
    "x_train = X\n",
    "y_train = Y"
   ]
  },
  {
   "cell_type": "code",
   "execution_count": 53,
   "id": "07a5fed6",
   "metadata": {},
   "outputs": [],
   "source": [
    "image_w = 150\n",
    "image_h = 150\n",
    "\n",
    "test_X = []\n",
    "test_Y = []\n",
    "\n",
    "for idx, cat in enumerate(categories):\n",
    "    label = [0 for i in range(nb_classes)]\n",
    "    label[idx] = 1\n",
    "    \n",
    "    files = glob(test_base_dir + '/' + cat + '/*.png')\n",
    "    for i, f in enumerate(files):\n",
    "        img = Image.open(f)\n",
    "        img = img.convert('RGB')\n",
    "        img = img.resize((image_w, image_h))\n",
    "        data = np.asarray(img)\n",
    "        test_X.append(data)\n",
    "        test_Y.append(label)"
   ]
  },
  {
   "cell_type": "code",
   "execution_count": 27,
   "id": "c44fc1e8",
   "metadata": {
    "scrolled": true
   },
   "outputs": [
    {
     "name": "stdout",
     "output_type": "stream",
     "text": [
      "(2154, 150, 150, 3)\n",
      "(2154, 88)\n"
     ]
    }
   ],
   "source": [
    "test_x = np.array(test_X)\n",
    "y_test = np.array(test_Y)\n",
    "\n",
    "print(test_x.shape)\n",
    "print(y_test.shape)"
   ]
  },
  {
   "cell_type": "code",
   "execution_count": 28,
   "id": "f4bfb7ea",
   "metadata": {},
   "outputs": [],
   "source": [
    "x_train = x_train.astype('float') / 255\n",
    "x_test = test_x.astype('float') / 255"
   ]
  },
  {
   "cell_type": "code",
   "execution_count": 29,
   "id": "699021e0",
   "metadata": {
    "scrolled": false
   },
   "outputs": [
    {
     "data": {
      "text/plain": [
       "array([ 0,  0,  0, ..., 87, 87, 87], dtype=int64)"
      ]
     },
     "execution_count": 29,
     "metadata": {},
     "output_type": "execute_result"
    }
   ],
   "source": [
    "y_train.argmax(1)"
   ]
  },
  {
   "cell_type": "code",
   "execution_count": 30,
   "id": "34ca3dbb",
   "metadata": {
    "scrolled": true
   },
   "outputs": [
    {
     "name": "stdout",
     "output_type": "stream",
     "text": [
      "(4277, 150, 150, 3)\n",
      "(4277, 88)\n"
     ]
    }
   ],
   "source": [
    "print(x_train.shape)\n",
    "print(y_train.shape)"
   ]
  },
  {
   "cell_type": "code",
   "execution_count": 54,
   "id": "0585d2fd",
   "metadata": {},
   "outputs": [
    {
     "name": "stdout",
     "output_type": "stream",
     "text": [
      "클래스:0, 이미지 수 :10\n",
      "클래스:1, 이미지 수 :11\n",
      "클래스:2, 이미지 수 :11\n",
      "클래스:3, 이미지 수 :209\n",
      "클래스:4, 이미지 수 :7\n",
      "클래스:5, 이미지 수 :6\n",
      "클래스:6, 이미지 수 :6\n",
      "클래스:7, 이미지 수 :7\n",
      "클래스:8, 이미지 수 :5\n",
      "클래스:9, 이미지 수 :224\n",
      "클래스:10, 이미지 수 :6\n",
      "클래스:11, 이미지 수 :5\n",
      "클래스:12, 이미지 수 :5\n",
      "클래스:13, 이미지 수 :12\n",
      "클래스:14, 이미지 수 :11\n",
      "클래스:15, 이미지 수 :219\n",
      "클래스:16, 이미지 수 :11\n",
      "클래스:17, 이미지 수 :12\n",
      "클래스:18, 이미지 수 :10\n",
      "클래스:19, 이미지 수 :10\n",
      "클래스:20, 이미지 수 :9\n",
      "클래스:21, 이미지 수 :280\n",
      "클래스:22, 이미지 수 :9\n",
      "클래스:23, 이미지 수 :9\n",
      "클래스:24, 이미지 수 :10\n",
      "클래스:25, 이미지 수 :6\n",
      "클래스:26, 이미지 수 :6\n",
      "클래스:27, 이미지 수 :6\n",
      "클래스:28, 이미지 수 :264\n",
      "클래스:29, 이미지 수 :6\n",
      "클래스:30, 이미지 수 :6\n",
      "클래스:31, 이미지 수 :9\n",
      "클래스:32, 이미지 수 :9\n",
      "클래스:33, 이미지 수 :391\n",
      "클래스:34, 이미지 수 :9\n",
      "클래스:35, 이미지 수 :9\n",
      "클래스:36, 이미지 수 :10\n",
      "클래스:37, 이미지 수 :10\n",
      "클래스:38, 이미지 수 :9\n",
      "클래스:39, 이미지 수 :10\n",
      "클래스:40, 이미지 수 :245\n",
      "클래스:41, 이미지 수 :9\n",
      "클래스:42, 이미지 수 :13\n",
      "클래스:43, 이미지 수 :11\n",
      "클래스:44, 이미지 수 :12\n",
      "클래스:45, 이미지 수 :220\n",
      "클래스:46, 이미지 수 :12\n",
      "클래스:47, 이미지 수 :13\n",
      "클래스:48, 이미지 수 :9\n",
      "클래스:49, 이미지 수 :11\n",
      "클래스:50, 이미지 수 :13\n",
      "클래스:51, 이미지 수 :10\n",
      "클래스:52, 이미지 수 :267\n",
      "클래스:53, 이미지 수 :5\n",
      "클래스:54, 이미지 수 :12\n",
      "클래스:55, 이미지 수 :320\n",
      "클래스:56, 이미지 수 :12\n",
      "클래스:57, 이미지 수 :12\n",
      "클래스:58, 이미지 수 :13\n",
      "클래스:59, 이미지 수 :12\n",
      "클래스:60, 이미지 수 :12\n",
      "클래스:61, 이미지 수 :9\n",
      "클래스:62, 이미지 수 :9\n",
      "클래스:63, 이미지 수 :230\n",
      "클래스:64, 이미지 수 :8\n",
      "클래스:65, 이미지 수 :9\n",
      "클래스:66, 이미지 수 :8\n",
      "클래스:67, 이미지 수 :15\n",
      "클래스:68, 이미지 수 :60\n",
      "클래스:69, 이미지 수 :5\n",
      "클래스:70, 이미지 수 :5\n",
      "클래스:71, 이미지 수 :5\n",
      "클래스:72, 이미지 수 :213\n",
      "클래스:73, 이미지 수 :5\n",
      "클래스:74, 이미지 수 :4\n",
      "클래스:75, 이미지 수 :6\n",
      "클래스:76, 이미지 수 :247\n",
      "클래스:77, 이미지 수 :5\n",
      "클래스:78, 이미지 수 :5\n",
      "클래스:79, 이미지 수 :11\n",
      "클래스:80, 이미지 수 :10\n",
      "클래스:81, 이미지 수 :8\n",
      "클래스:82, 이미지 수 :9\n",
      "클래스:83, 이미지 수 :8\n",
      "클래스:84, 이미지 수 :240\n",
      "클래스:85, 이미지 수 :9\n",
      "클래스:86, 이미지 수 :9\n",
      "클래스:87, 이미지 수 :8\n"
     ]
    }
   ],
   "source": [
    "for i,fname in enumerate(os.listdir(base_dir)):\n",
    "    print('클래스:{}, 이미지 수 :{}'.format(i, len(os.listdir(base_dir + '/'+fname))))"
   ]
  },
  {
   "cell_type": "code",
   "execution_count": 46,
   "id": "b58d9c56",
   "metadata": {
    "scrolled": true
   },
   "outputs": [
    {
     "name": "stdout",
     "output_type": "stream",
     "text": [
      "클래스:0, 이미지 수 :8\n",
      "클래스:1, 이미지 수 :7\n",
      "클래스:2, 이미지 수 :6\n",
      "클래스:3, 이미지 수 :112\n",
      "클래스:4, 이미지 수 :4\n",
      "클래스:5, 이미지 수 :3\n",
      "클래스:6, 이미지 수 :2\n",
      "클래스:7, 이미지 수 :4\n",
      "클래스:8, 이미지 수 :3\n",
      "클래스:9, 이미지 수 :103\n",
      "클래스:10, 이미지 수 :4\n",
      "클래스:11, 이미지 수 :2\n",
      "클래스:12, 이미지 수 :3\n",
      "클래스:13, 이미지 수 :6\n",
      "클래스:14, 이미지 수 :6\n",
      "클래스:15, 이미지 수 :110\n",
      "클래스:16, 이미지 수 :5\n",
      "클래스:17, 이미지 수 :5\n",
      "클래스:18, 이미지 수 :4\n",
      "클래스:19, 이미지 수 :6\n",
      "클래스:20, 이미지 수 :4\n",
      "클래스:21, 이미지 수 :147\n",
      "클래스:22, 이미지 수 :5\n",
      "클래스:23, 이미지 수 :7\n",
      "클래스:24, 이미지 수 :4\n",
      "클래스:25, 이미지 수 :2\n",
      "클래스:26, 이미지 수 :3\n",
      "클래스:27, 이미지 수 :4\n",
      "클래스:28, 이미지 수 :131\n",
      "클래스:29, 이미지 수 :2\n",
      "클래스:30, 이미지 수 :4\n",
      "클래스:31, 이미지 수 :3\n",
      "클래스:32, 이미지 수 :5\n",
      "클래스:33, 이미지 수 :185\n",
      "클래스:34, 이미지 수 :6\n",
      "클래스:35, 이미지 수 :4\n",
      "클래스:36, 이미지 수 :4\n",
      "클래스:37, 이미지 수 :6\n",
      "클래스:38, 이미지 수 :2\n",
      "클래스:39, 이미지 수 :5\n",
      "클래스:40, 이미지 수 :125\n",
      "클래스:41, 이미지 수 :4\n",
      "클래스:42, 이미지 수 :7\n",
      "클래스:43, 이미지 수 :6\n",
      "클래스:44, 이미지 수 :5\n",
      "클래스:45, 이미지 수 :127\n",
      "클래스:46, 이미지 수 :4\n",
      "클래스:47, 이미지 수 :8\n",
      "클래스:48, 이미지 수 :4\n",
      "클래스:49, 이미지 수 :6\n",
      "클래스:50, 이미지 수 :6\n",
      "클래스:51, 이미지 수 :8\n",
      "클래스:52, 이미지 수 :130\n",
      "클래스:53, 이미지 수 :4\n",
      "클래스:54, 이미지 수 :7\n",
      "클래스:55, 이미지 수 :153\n",
      "클래스:56, 이미지 수 :8\n",
      "클래스:57, 이미지 수 :5\n",
      "클래스:58, 이미지 수 :6\n",
      "클래스:59, 이미지 수 :7\n",
      "클래스:60, 이미지 수 :4\n",
      "클래스:61, 이미지 수 :2\n",
      "클래스:62, 이미지 수 :4\n",
      "클래스:63, 이미지 수 :113\n",
      "클래스:64, 이미지 수 :3\n",
      "클래스:65, 이미지 수 :4\n",
      "클래스:66, 이미지 수 :3\n",
      "클래스:67, 이미지 수 :6\n",
      "클래스:68, 이미지 수 :31\n",
      "클래스:69, 이미지 수 :1\n",
      "클래스:70, 이미지 수 :1\n",
      "클래스:71, 이미지 수 :4\n",
      "클래스:72, 이미지 수 :108\n",
      "클래스:73, 이미지 수 :2\n",
      "클래스:74, 이미지 수 :2\n",
      "클래스:75, 이미지 수 :1\n",
      "클래스:76, 이미지 수 :126\n",
      "클래스:77, 이미지 수 :1\n",
      "클래스:78, 이미지 수 :1\n",
      "클래스:79, 이미지 수 :5\n",
      "클래스:80, 이미지 수 :6\n",
      "클래스:81, 이미지 수 :4\n",
      "클래스:82, 이미지 수 :2\n",
      "클래스:83, 이미지 수 :6\n",
      "클래스:84, 이미지 수 :133\n",
      "클래스:85, 이미지 수 :4\n",
      "클래스:86, 이미지 수 :6\n",
      "클래스:87, 이미지 수 :5\n"
     ]
    }
   ],
   "source": [
    "for i,fname in enumerate(os.listdir(test_base_dir)):\n",
    "    print('클래스:{}, 이미지 수 :{}'.format(i, len(os.listdir(test_base_dir + '/'+fname))))\n",
    "        "
   ]
  },
  {
   "cell_type": "code",
   "execution_count": 48,
   "id": "974f135e",
   "metadata": {
    "scrolled": false
   },
   "outputs": [
    {
     "name": "stderr",
     "output_type": "stream",
     "text": [
      "C:\\Users\\choij\\anaconda3\\lib\\site-packages\\sklearn\\model_selection\\_split.py:666: UserWarning: The least populated class in y has only 4 members, which is less than n_splits=15.\n",
      "  warnings.warn((\"The least populated class in y has only %d\"\n"
     ]
    },
    {
     "name": "stdout",
     "output_type": "stream",
     "text": [
      "Found 4277 images belonging to 88 classes.\n",
      "Found 2154 images belonging to 88 classes.\n"
     ]
    },
    {
     "name": "stderr",
     "output_type": "stream",
     "text": [
      "<ipython-input-48-5a6faa8afd4c>:51: UserWarning: `Model.fit_generator` is deprecated and will be removed in a future version. Please use `Model.fit`, which supports generators.\n",
      "  history = model.fit_generator(\n"
     ]
    },
    {
     "name": "stdout",
     "output_type": "stream",
     "text": [
      "Epoch 1/10\n",
      "100/100 [==============================] - 158s 2s/step - loss: 1.7534 - accuracy: 0.7043 - val_loss: 4.8242 - val_accuracy: 0.0675\n",
      "Epoch 2/10\n",
      "100/100 [==============================] - 146s 1s/step - loss: 1.0871 - accuracy: 0.8224 - val_loss: 5.3524 - val_accuracy: 0.0669\n",
      "Epoch 3/10\n",
      "100/100 [==============================] - 149s 1s/step - loss: 0.9096 - accuracy: 0.8359 - val_loss: 6.2336 - val_accuracy: 0.0694\n",
      "Epoch 4/10\n",
      "100/100 [==============================] - 154s 2s/step - loss: 0.8550 - accuracy: 0.8351 - val_loss: 6.6606 - val_accuracy: 0.0594\n",
      "Epoch 5/10\n",
      "100/100 [==============================] - 147s 1s/step - loss: 0.7997 - accuracy: 0.8401 - val_loss: 7.4565 - val_accuracy: 0.0512\n",
      "Epoch 6/10\n",
      "100/100 [==============================] - 147s 1s/step - loss: 0.7912 - accuracy: 0.8394 - val_loss: 10.4868 - val_accuracy: 0.0581\n",
      "Epoch 7/10\n",
      "100/100 [==============================] - 149s 1s/step - loss: 0.7595 - accuracy: 0.8414 - val_loss: 9.2524 - val_accuracy: 0.0525\n",
      "Epoch 8/10\n",
      "100/100 [==============================] - 142s 1s/step - loss: 0.7376 - accuracy: 0.8424 - val_loss: 10.0687 - val_accuracy: 0.0587\n",
      "Epoch 9/10\n",
      "100/100 [==============================] - 149s 1s/step - loss: 0.7301 - accuracy: 0.8446 - val_loss: 10.4019 - val_accuracy: 0.0512\n"
     ]
    },
    {
     "ename": "IndexError",
     "evalue": "index 3724 is out of bounds for axis 0 with size 3724",
     "output_type": "error",
     "traceback": [
      "\u001b[1;31m---------------------------------------------------------------------------\u001b[0m",
      "\u001b[1;31mIndexError\u001b[0m                                Traceback (most recent call last)",
      "\u001b[1;32m<ipython-input-48-5a6faa8afd4c>\u001b[0m in \u001b[0;36m<module>\u001b[1;34m\u001b[0m\n\u001b[0;32m      6\u001b[0m \u001b[1;32mfor\u001b[0m \u001b[0mtrain_index\u001b[0m\u001b[1;33m,\u001b[0m \u001b[0mvalid_index\u001b[0m \u001b[1;32min\u001b[0m \u001b[0mskf\u001b[0m\u001b[1;33m.\u001b[0m\u001b[0msplit\u001b[0m\u001b[1;33m(\u001b[0m\u001b[0mx_train\u001b[0m\u001b[1;33m,\u001b[0m \u001b[0my_train\u001b[0m\u001b[1;33m.\u001b[0m\u001b[0margmax\u001b[0m\u001b[1;33m(\u001b[0m\u001b[1;36m1\u001b[0m\u001b[1;33m)\u001b[0m\u001b[1;33m)\u001b[0m\u001b[1;33m:\u001b[0m\u001b[1;33m\u001b[0m\u001b[1;33m\u001b[0m\u001b[0m\n\u001b[0;32m      7\u001b[0m     \u001b[0mn\u001b[0m \u001b[1;33m+=\u001b[0m \u001b[1;36m1\u001b[0m\u001b[1;33m\u001b[0m\u001b[1;33m\u001b[0m\u001b[0m\n\u001b[1;32m----> 8\u001b[1;33m     \u001b[0mx_train\u001b[0m\u001b[1;33m,\u001b[0m \u001b[0mx_valid\u001b[0m \u001b[1;33m=\u001b[0m \u001b[0mx_train\u001b[0m\u001b[1;33m[\u001b[0m\u001b[0mtrain_index\u001b[0m\u001b[1;33m]\u001b[0m\u001b[1;33m,\u001b[0m \u001b[0mx_train\u001b[0m\u001b[1;33m[\u001b[0m\u001b[0mvalid_index\u001b[0m\u001b[1;33m]\u001b[0m\u001b[1;33m\u001b[0m\u001b[1;33m\u001b[0m\u001b[0m\n\u001b[0m\u001b[0;32m      9\u001b[0m     \u001b[0my_train\u001b[0m\u001b[1;33m,\u001b[0m \u001b[0my_valid\u001b[0m \u001b[1;33m=\u001b[0m \u001b[0my_train\u001b[0m\u001b[1;33m[\u001b[0m\u001b[0mtrain_index\u001b[0m\u001b[1;33m]\u001b[0m\u001b[1;33m,\u001b[0m \u001b[0my_train\u001b[0m\u001b[1;33m[\u001b[0m\u001b[0mvalid_index\u001b[0m\u001b[1;33m]\u001b[0m\u001b[1;33m\u001b[0m\u001b[1;33m\u001b[0m\u001b[0m\n\u001b[0;32m     10\u001b[0m \u001b[1;33m\u001b[0m\u001b[0m\n",
      "\u001b[1;31mIndexError\u001b[0m: index 3724 is out of bounds for axis 0 with size 3724"
     ]
    }
   ],
   "source": [
    "skf = StratifiedKFold(n_splits = 15, random_state = 32, shuffle = True)\n",
    "n = 0\n",
    "\n",
    "cnn_pred = []\n",
    "\n",
    "for train_index, valid_index in skf.split(x_train, y_train.argmax(1)):\n",
    "    n += 1\n",
    "    x_train, x_valid = x_train[train_index], x_train[valid_index]\n",
    "    y_train, y_valid = y_train[train_index], y_train[valid_index]\n",
    "    \n",
    "    model = CustomModel()\n",
    "    \n",
    "    model.compile(optimizer = 'Adam', \n",
    "                  loss = 'categorical_crossentropy', \n",
    "                  metrics = ['accuracy'])\n",
    "    \n",
    "    filename = 'CNN_checkpoint3.h5'\n",
    "    checkpoint = tf.keras.callbacks.ModelCheckpoint(filename,\n",
    "                                                   monitor = 'val_accuracy',\n",
    "                                                   verbose = 0,\n",
    "                                                   save_best_only = True,\n",
    "                                                   mode = 'auto')\n",
    "\n",
    "    earlystopping = tf.keras.callbacks.EarlyStopping(monitor = 'val_accuracy',\n",
    "                                                    patience = 6)\n",
    "    \n",
    "    train_datagen = ImageDataGenerator(rescale = 1./255,\n",
    "                                        rotation_range = 40,\n",
    "                                        width_shift_range = 0.2,\n",
    "                                        height_shift_range = 0.2,\n",
    "                                        shear_range = 0.2,\n",
    "                                        zoom_range = 0.2,\n",
    "                                        horizontal_flip = True)\n",
    "    \n",
    "    test_datagen = ImageDataGenerator(rescale = 1./255)\n",
    "    \n",
    "    valid_datagen = ImageDataGenerator(rescale = 1./255)\n",
    "\n",
    "    train_generator = train_datagen.flow_from_directory(\n",
    "        base_dir,\n",
    "        target_size = (150,150),\n",
    "        batch_size = 40,\n",
    "        class_mode = 'categorical')\n",
    "    \n",
    "    valid_generator = test_datagen.flow_from_directory(\n",
    "        test_base_dir,\n",
    "        target_size = (150,150),\n",
    "        batch_size = 40,\n",
    "        class_mode = 'categorical')\n",
    "        \n",
    "    history = model.fit_generator(\n",
    "    train_generator,\n",
    "    steps_per_epoch = 100,\n",
    "    epochs = 10,\n",
    "    validation_data = valid_generator,\n",
    "    validation_steps = 40,\n",
    "    callbacks = [checkpoint, earlystopping])\n",
    "    "
   ]
  }
 ],
 "metadata": {
  "kernelspec": {
   "display_name": "Python 3",
   "language": "python",
   "name": "python3"
  },
  "language_info": {
   "codemirror_mode": {
    "name": "ipython",
    "version": 3
   },
   "file_extension": ".py",
   "mimetype": "text/x-python",
   "name": "python",
   "nbconvert_exporter": "python",
   "pygments_lexer": "ipython3",
   "version": "3.8.8"
  }
 },
 "nbformat": 4,
 "nbformat_minor": 5
}
