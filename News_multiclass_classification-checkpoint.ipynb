{
 "cells": [
  {
   "cell_type": "markdown",
   "id": "2447cbd8",
   "metadata": {},
   "source": [
    "# 뉴스 기사 다중 분류 문제"
   ]
  },
  {
   "cell_type": "code",
   "execution_count": 1,
   "id": "debf9f32",
   "metadata": {},
   "outputs": [],
   "source": [
    "from keras.datasets import reuters"
   ]
  },
  {
   "cell_type": "code",
   "execution_count": 2,
   "id": "bf6d5c59",
   "metadata": {},
   "outputs": [],
   "source": [
    "(train_data, train_labels),(test_data, test_labels) = reuters.load_data(num_words = 10000)"
   ]
  },
  {
   "cell_type": "code",
   "execution_count": 3,
   "id": "a8949d3c",
   "metadata": {},
   "outputs": [
    {
     "name": "stdout",
     "output_type": "stream",
     "text": [
      "8982\n",
      "2246\n"
     ]
    }
   ],
   "source": [
    "print(len(train_data))\n",
    "print(len(test_data))"
   ]
  },
  {
   "cell_type": "code",
   "execution_count": 4,
   "id": "67c0b298",
   "metadata": {},
   "outputs": [],
   "source": [
    "import numpy as np"
   ]
  },
  {
   "cell_type": "markdown",
   "id": "c06a3f27",
   "metadata": {},
   "source": [
    "**데이터 인코딩하기**"
   ]
  },
  {
   "cell_type": "code",
   "execution_count": 5,
   "id": "15d858bd",
   "metadata": {},
   "outputs": [],
   "source": [
    "def vectorize_sequences(sequences, dimension = 10000):\n",
    "    results = np.zeros((len(sequences), dimension))\n",
    "    for i, sequence in enumerate(sequences):\n",
    "        results[i, sequence] = 1\n",
    "    return results\n",
    "\n",
    "x_train = vectorize_sequences(train_data)\n",
    "x_test = vectorize_sequences(test_data)"
   ]
  },
  {
   "cell_type": "markdown",
   "id": "b4829348",
   "metadata": {},
   "source": [
    "**범주형 데이터 원핫 인코딩하기**"
   ]
  },
  {
   "cell_type": "code",
   "execution_count": 9,
   "id": "9a1ed07d",
   "metadata": {},
   "outputs": [],
   "source": [
    "def to_one_hot(labels, dimension = 46):\n",
    "    results = np.zeros((len(labels), dimension))\n",
    "    for i, label in enumerate(labels):\n",
    "        results[i, label] = 1\n",
    "    return results"
   ]
  },
  {
   "cell_type": "code",
   "execution_count": 10,
   "id": "e8d45340",
   "metadata": {},
   "outputs": [],
   "source": [
    "one_hot_train_labels = to_one_hot(train_labels)\n",
    "one_hot_test_labels = to_one_hot(test_labels)"
   ]
  },
  {
   "cell_type": "code",
   "execution_count": null,
   "id": "d10932d2",
   "metadata": {},
   "outputs": [],
   "source": [
    "#케라스에 있는 to_categorical 내장함수가 있음\n",
    "#from keras.utils.np.utils import to_categorical\n",
    "#one_hot_train_labels = to_categorical(train_labels)\n",
    "#one_hot_test_labels = to_categorical(test_labels)"
   ]
  },
  {
   "cell_type": "markdown",
   "id": "8f81514f",
   "metadata": {},
   "source": [
    "**모델 구성**"
   ]
  },
  {
   "cell_type": "code",
   "execution_count": 11,
   "id": "68584026",
   "metadata": {},
   "outputs": [],
   "source": [
    "from keras import models\n",
    "from keras import layers"
   ]
  },
  {
   "cell_type": "code",
   "execution_count": 13,
   "id": "21322fe1",
   "metadata": {},
   "outputs": [],
   "source": [
    "model = models.Sequential()\n",
    "model.add(layers.Dense(64, activation = 'relu', input_shape = (10000,)))\n",
    "model.add(layers.Dense(64, activation = 'relu',))  #가운데 충분히 큰 층을 두지 않으면 병목현상이 일어남\n",
    "model.add(layers.Dense(46, activation = 'softmax'))"
   ]
  },
  {
   "cell_type": "code",
   "execution_count": 14,
   "id": "cf5f50dc",
   "metadata": {},
   "outputs": [],
   "source": [
    "model.compile(optimizer = 'rmsprop',\n",
    "             loss = 'categorical_crossentropy',\n",
    "             metrics = ['accuracy'])"
   ]
  },
  {
   "cell_type": "code",
   "execution_count": 15,
   "id": "937b2350",
   "metadata": {},
   "outputs": [],
   "source": [
    "x_val = x_train[:1000]\n",
    "partial_x_train = x_train[1000:]\n",
    "\n",
    "y_val = one_hot_train_labels[:1000]\n",
    "partial_y_train = one_hot_train_labels[1000:]"
   ]
  },
  {
   "cell_type": "code",
   "execution_count": 16,
   "id": "1fc89b08",
   "metadata": {},
   "outputs": [
    {
     "name": "stdout",
     "output_type": "stream",
     "text": [
      "Epoch 1/20\n",
      "16/16 [==============================] - 1s 44ms/step - loss: 2.6346 - accuracy: 0.5053 - val_loss: 1.7647 - val_accuracy: 0.6430\n",
      "Epoch 2/20\n",
      "16/16 [==============================] - 1s 34ms/step - loss: 1.4466 - accuracy: 0.7042 - val_loss: 1.3164 - val_accuracy: 0.7230\n",
      "Epoch 3/20\n",
      "16/16 [==============================] - 1s 33ms/step - loss: 1.0741 - accuracy: 0.7746 - val_loss: 1.1437 - val_accuracy: 0.7590\n",
      "Epoch 4/20\n",
      "16/16 [==============================] - 1s 33ms/step - loss: 0.8485 - accuracy: 0.8192 - val_loss: 1.0412 - val_accuracy: 0.7820\n",
      "Epoch 5/20\n",
      "16/16 [==============================] - 1s 32ms/step - loss: 0.6742 - accuracy: 0.8588 - val_loss: 0.9742 - val_accuracy: 0.8070\n",
      "Epoch 6/20\n",
      "16/16 [==============================] - 1s 32ms/step - loss: 0.5360 - accuracy: 0.8886 - val_loss: 0.9395 - val_accuracy: 0.7980\n",
      "Epoch 7/20\n",
      "16/16 [==============================] - 0s 31ms/step - loss: 0.4268 - accuracy: 0.9122 - val_loss: 0.9235 - val_accuracy: 0.8000\n",
      "Epoch 8/20\n",
      "16/16 [==============================] - 0s 30ms/step - loss: 0.3501 - accuracy: 0.9268 - val_loss: 0.8932 - val_accuracy: 0.8200\n",
      "Epoch 9/20\n",
      "16/16 [==============================] - 1s 32ms/step - loss: 0.2911 - accuracy: 0.9374 - val_loss: 0.9093 - val_accuracy: 0.8190\n",
      "Epoch 10/20\n",
      "16/16 [==============================] - 1s 34ms/step - loss: 0.2443 - accuracy: 0.9455 - val_loss: 0.9183 - val_accuracy: 0.8260\n",
      "Epoch 11/20\n",
      "16/16 [==============================] - 1s 36ms/step - loss: 0.2094 - accuracy: 0.9491 - val_loss: 0.9360 - val_accuracy: 0.8050\n",
      "Epoch 12/20\n",
      "16/16 [==============================] - 1s 36ms/step - loss: 0.1857 - accuracy: 0.9523 - val_loss: 0.9508 - val_accuracy: 0.8180\n",
      "Epoch 13/20\n",
      "16/16 [==============================] - 1s 35ms/step - loss: 0.1671 - accuracy: 0.9534 - val_loss: 0.9702 - val_accuracy: 0.8040\n",
      "Epoch 14/20\n",
      "16/16 [==============================] - 1s 35ms/step - loss: 0.1506 - accuracy: 0.9550 - val_loss: 1.1135 - val_accuracy: 0.7970\n",
      "Epoch 15/20\n",
      "16/16 [==============================] - 1s 32ms/step - loss: 0.1431 - accuracy: 0.9554 - val_loss: 1.0266 - val_accuracy: 0.8110\n",
      "Epoch 16/20\n",
      "16/16 [==============================] - 1s 32ms/step - loss: 0.1347 - accuracy: 0.9560 - val_loss: 1.0480 - val_accuracy: 0.8130\n",
      "Epoch 17/20\n",
      "16/16 [==============================] - 1s 32ms/step - loss: 0.1266 - accuracy: 0.9560 - val_loss: 1.0349 - val_accuracy: 0.8060\n",
      "Epoch 18/20\n",
      "16/16 [==============================] - 1s 34ms/step - loss: 0.1192 - accuracy: 0.9577 - val_loss: 1.0446 - val_accuracy: 0.8170\n",
      "Epoch 19/20\n",
      "16/16 [==============================] - 1s 34ms/step - loss: 0.1208 - accuracy: 0.9569 - val_loss: 1.0823 - val_accuracy: 0.8110\n",
      "Epoch 20/20\n",
      "16/16 [==============================] - 0s 31ms/step - loss: 0.1124 - accuracy: 0.9585 - val_loss: 1.0868 - val_accuracy: 0.8060\n"
     ]
    }
   ],
   "source": [
    "history = model.fit(partial_x_train,\n",
    "                   partial_y_train,\n",
    "                   epochs = 20,\n",
    "                   batch_size = 512,\n",
    "                   validation_data = (x_val, y_val))"
   ]
  },
  {
   "cell_type": "code",
   "execution_count": 17,
   "id": "d35df575",
   "metadata": {},
   "outputs": [],
   "source": [
    "import matplotlib.pyplot as plt"
   ]
  },
  {
   "cell_type": "code",
   "execution_count": 18,
   "id": "47e32710",
   "metadata": {},
   "outputs": [
    {
     "data": {
      "image/png": "[encoded data removed]",
      "text/plain": [
       "<Figure size 432x288 with 1 Axes>"
      ]
     },
     "metadata": {
      "needs_background": "light"
     },
     "output_type": "display_data"
    }
   ],
   "source": [
    "loss = history.history['loss']\n",
    "val_loss = history.history['val_loss']\n",
    "\n",
    "epochs = range(1, len(loss)+1)\n",
    "\n",
    "plt.plot(epochs, loss, 'bo', label = 'Training_loss')\n",
    "plt.plot(epochs, val_loss, 'b', label = 'validation_loss')\n",
    "plt.title('Training and Validation loss')\n",
    "plt.xlabel('Epochs')\n",
    "plt.ylabel('Loss')\n",
    "plt.legend()\n",
    "\n",
    "plt.show()"
   ]
  },
  {
   "cell_type": "code",
   "execution_count": 21,
   "id": "d03d0c09",
   "metadata": {},
   "outputs": [
    {
     "data": {
      "image/png": "[encoded data removed]",
      "text/plain": [
       "<Figure size 432x288 with 1 Axes>"
      ]
     },
     "metadata": {
      "needs_background": "light"
     },
     "output_type": "display_data"
    }
   ],
   "source": [
    "plt.clf()\n",
    "acc = history.history['accuracy']\n",
    "val_acc = history.history['val_accuracy']\n",
    "\n",
    "epochs = range(1, len(loss)+1)\n",
    "\n",
    "plt.plot(epochs, acc, 'bo', label = 'Training_acc')\n",
    "plt.plot(epochs, val_acc, 'b', label = 'validation_acc')\n",
    "plt.title('Training and Validation accuracy')\n",
    "plt.xlabel('Epochs')\n",
    "plt.ylabel('accuracy')\n",
    "plt.legend()\n",
    "\n",
    "plt.show()"
   ]
  },
  {
   "cell_type": "code",
   "execution_count": 22,
   "id": "8ef2a877",
   "metadata": {},
   "outputs": [
    {
     "name": "stdout",
     "output_type": "stream",
     "text": [
      "Epoch 1/9\n",
      "16/16 [==============================] - 1s 36ms/step - loss: 2.7915 - accuracy: 0.4673 - val_loss: 1.8519 - val_accuracy: 0.6320\n",
      "Epoch 2/9\n",
      "16/16 [==============================] - 0s 26ms/step - loss: 1.4666 - accuracy: 0.7023 - val_loss: 1.3124 - val_accuracy: 0.7140\n",
      "Epoch 3/9\n",
      "16/16 [==============================] - 0s 27ms/step - loss: 1.0625 - accuracy: 0.7752 - val_loss: 1.1393 - val_accuracy: 0.7510\n",
      "Epoch 4/9\n",
      "16/16 [==============================] - 0s 28ms/step - loss: 0.8328 - accuracy: 0.8262 - val_loss: 1.0431 - val_accuracy: 0.7880\n",
      "Epoch 5/9\n",
      "16/16 [==============================] - 0s 27ms/step - loss: 0.6679 - accuracy: 0.8641 - val_loss: 0.9526 - val_accuracy: 0.8120\n",
      "Epoch 6/9\n",
      "16/16 [==============================] - 0s 27ms/step - loss: 0.5386 - accuracy: 0.8916 - val_loss: 0.9137 - val_accuracy: 0.8180\n",
      "Epoch 7/9\n",
      "16/16 [==============================] - 0s 29ms/step - loss: 0.4319 - accuracy: 0.9110 - val_loss: 0.9388 - val_accuracy: 0.8010\n",
      "Epoch 8/9\n",
      "16/16 [==============================] - 0s 28ms/step - loss: 0.3520 - accuracy: 0.9273 - val_loss: 0.9085 - val_accuracy: 0.8090\n",
      "Epoch 9/9\n",
      "16/16 [==============================] - 0s 26ms/step - loss: 0.2893 - accuracy: 0.9360 - val_loss: 0.9129 - val_accuracy: 0.8190\n"
     ]
    }
   ],
   "source": [
    "model = models.Sequential()\n",
    "model.add(layers.Dense(64, activation = 'relu', input_shape = (10000,)))\n",
    "model.add(layers.Dense(64, activation = 'relu',)) \n",
    "model.add(layers.Dense(46, activation = 'softmax'))\n",
    "\n",
    "model.compile(optimizer = 'rmsprop',\n",
    "             loss = 'categorical_crossentropy',\n",
    "             metrics = ['accuracy'])\n",
    "\n",
    "history = model.fit(partial_x_train,\n",
    "                   partial_y_train,\n",
    "                   epochs = 9,\n",
    "                   batch_size = 512,\n",
    "                   validation_data = (x_val, y_val))"
   ]
  },
  {
   "cell_type": "code",
   "execution_count": 24,
   "id": "805bd0a9",
   "metadata": {},
   "outputs": [
    {
     "name": "stdout",
     "output_type": "stream",
     "text": [
      "71/71 [==============================] - 0s 2ms/step - loss: 0.9674 - accuracy: 0.7916\n"
     ]
    }
   ],
   "source": [
    "results = model.evaluate(x_test, one_hot_test_labels)"
   ]
  },
  {
   "cell_type": "code",
   "execution_count": 25,
   "id": "f519abec",
   "metadata": {},
   "outputs": [
    {
     "data": {
      "text/plain": [
       "[0.9673850536346436, 0.7916295528411865]"
      ]
     },
     "execution_count": 25,
     "metadata": {},
     "output_type": "execute_result"
    }
   ],
   "source": [
    "results #79퍼센트의 정확도"
   ]
  },
  {
   "cell_type": "markdown",
   "id": "af6e5c5e",
   "metadata": {},
   "source": [
    "**새로운 데이터에 대해서 예측하기**"
   ]
  },
  {
   "cell_type": "code",
   "execution_count": 28,
   "id": "798683c3",
   "metadata": {},
   "outputs": [],
   "source": [
    "predictions = model.predict(x_test)"
   ]
  },
  {
   "cell_type": "code",
   "execution_count": 30,
   "id": "437bfaf2",
   "metadata": {},
   "outputs": [
    {
     "name": "stdout",
     "output_type": "stream",
     "text": [
      "(2246, 46)\n",
      "(46,)\n"
     ]
    }
   ],
   "source": [
    "print(predictions.shape)\n",
    "print(predictions[0].shape)"
   ]
  },
  {
   "cell_type": "code",
   "execution_count": 32,
   "id": "a83277a5",
   "metadata": {},
   "outputs": [
    {
     "data": {
      "text/plain": [
       "1.0000002"
      ]
     },
     "execution_count": 32,
     "metadata": {},
     "output_type": "execute_result"
    }
   ],
   "source": [
    "np.sum(predictions[0]) #합이 1인 벡터"
   ]
  },
  {
   "cell_type": "code",
   "execution_count": 33,
   "id": "9c8dc41b",
   "metadata": {},
   "outputs": [
    {
     "data": {
      "text/plain": [
       "3"
      ]
     },
     "execution_count": 33,
     "metadata": {},
     "output_type": "execute_result"
    }
   ],
   "source": [
    "np.argmax(predictions[0]) #가장 확률이 높은 클래스"
   ]
  }
 ],
 "metadata": {
  "kernelspec": {
   "display_name": "Python 3",
   "language": "python",
   "name": "python3"
  },
  "language_info": {
   "codemirror_mode": {
    "name": "ipython",
    "version": 3
   },
   "file_extension": ".py",
   "mimetype": "text/x-python",
   "name": "python",
   "nbconvert_exporter": "python",
   "pygments_lexer": "ipython3",
   "version": "3.8.8"
  }
 },
 "nbformat": 4,
 "nbformat_minor": 5
}
