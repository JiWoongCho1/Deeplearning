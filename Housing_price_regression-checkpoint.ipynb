{
 "cells": [
  {
   "cell_type": "markdown",
   "id": "bac9c7ce",
   "metadata": {},
   "source": [
    "# 주택 가격 예측하기"
   ]
  },
  {
   "cell_type": "code",
   "execution_count": 30,
   "id": "499c3f2c",
   "metadata": {},
   "outputs": [],
   "source": [
    "from keras.datasets import boston_housing"
   ]
  },
  {
   "cell_type": "code",
   "execution_count": 31,
   "id": "e5a2f429",
   "metadata": {},
   "outputs": [],
   "source": [
    "(train_data, train_targets), (test_data, test_targets) = boston_housing.load_data()"
   ]
  },
  {
   "cell_type": "code",
   "execution_count": 32,
   "id": "9e37ab7e",
   "metadata": {},
   "outputs": [
    {
     "name": "stdout",
     "output_type": "stream",
     "text": [
      "(404, 13)\n",
      "(102, 13)\n",
      "(404,)\n"
     ]
    }
   ],
   "source": [
    "print(train_data.shape) #13개의 수치특성\n",
    "print(test_data.shape)\n",
    "print(train_targets.shape)"
   ]
  },
  {
   "cell_type": "markdown",
   "id": "4602f653",
   "metadata": {},
   "source": [
    "**상이한 스케일을 신경망에 주입하면 문제가 생김 >> 정규화**"
   ]
  },
  {
   "cell_type": "code",
   "execution_count": 33,
   "id": "d643f0cb",
   "metadata": {},
   "outputs": [],
   "source": [
    "mean = train_data.mean(axis = 0)\n",
    "train_data -= mean\n",
    "std = train_data.std(axis = 0)\n",
    "train_data/= std\n",
    "\n",
    "test_data -= mean\n",
    "test_data /= std"
   ]
  },
  {
   "cell_type": "code",
   "execution_count": 34,
   "id": "7d4af430",
   "metadata": {},
   "outputs": [],
   "source": [
    "from keras import models\n",
    "from keras import layers"
   ]
  },
  {
   "cell_type": "code",
   "execution_count": 35,
   "id": "6d246466",
   "metadata": {},
   "outputs": [],
   "source": [
    "def build_model(): #동일  모델 여러 번 생성할 것이므로 함수 생성\n",
    "    model = models.Sequential()\n",
    "    model.add(layers.Dense(64, activation = 'relu', input_shape = (train_data.shape[1],)))\n",
    "    model.add(layers.Dense(64, activation = 'relu'))\n",
    "    model.add(layers.Dense(1)) #회귀 문제\n",
    "    \n",
    "    model.compile(optimizer = 'rmsprop', loss = 'mse', metrics = ['mae']) #모니터링위해 평균 절대 오차 사용 (예측과 타깃 사이 거리 절대값)\n",
    "    return model"
   ]
  },
  {
   "cell_type": "code",
   "execution_count": null,
   "id": "79a177b5",
   "metadata": {},
   "outputs": [],
   "source": []
  },
  {
   "cell_type": "markdown",
   "id": "3e250db0",
   "metadata": {},
   "source": [
    "# k-fold cross-validation사용한 훈련 검증\n",
    "\n",
    "**데이터가 많지 않기 때문에 신뢰있는 모델 만들 수가 없음**\n",
    "\n",
    "**데이터를 k개로 분할하고 k개의 모델을 각각 만들어 k-1개의 분할에서 훈련하고 나머지에서 평가**\n",
    "\n",
    "**검증 점수는 k개의 검증 점수 평균**"
   ]
  },
  {
   "cell_type": "code",
   "execution_count": 36,
   "id": "7dbabce7",
   "metadata": {},
   "outputs": [],
   "source": [
    "import numpy as np"
   ]
  },
  {
   "cell_type": "code",
   "execution_count": 37,
   "id": "8f6ded49",
   "metadata": {},
   "outputs": [
    {
     "name": "stdout",
     "output_type": "stream",
     "text": [
      "처리 중인 폴드 : #0\n",
      "처리 중인 폴드 : #1\n",
      "처리 중인 폴드 : #2\n",
      "처리 중인 폴드 : #3\n"
     ]
    }
   ],
   "source": [
    "k = 4\n",
    "num_val_samples = len(train_data) //k\n",
    "num_epochs = 100\n",
    "all_scores = []\n",
    "for i in range(k):\n",
    "    print(\"처리 중인 폴드 : #{}\".format(i)) \n",
    "    val_data = train_data[i * num_val_samples : (i+1)*num_val_samples] #검증 데이터 준비 : k번째 분할\n",
    "    val_targets = train_targets[i * num_val_samples : (i+1) * num_val_samples]\n",
    "    \n",
    "    partial_train_data = np.concatenate(              #훈련 데이터 준비 : 다른 분할 전체\n",
    "        [train_data[:i * num_val_samples], \n",
    "         train_data[(i+1) * num_val_samples:]], axis = 0)\n",
    "    \n",
    "    partial_train_targets = np.concatenate(\n",
    "        [train_targets[:i * num_val_samples], \n",
    "         train_targets[(i+1) * num_val_samples:]], axis = 0)\n",
    "    \n",
    "    model = build_model() #모델 구성, 컴파일\n",
    "    model.fit(partial_train_data, partial_train_targets, epochs = num_epochs, batch_size = 1, verbose = 0) #verbose 가 0이면 훈련과정 출력 x\n",
    "    val_mse, val_mae = model.evaluate(val_data, val_targets, verbose = 0)\n",
    "    all_scores.append(val_mae)"
   ]
  },
  {
   "cell_type": "code",
   "execution_count": 38,
   "id": "6853aae5",
   "metadata": {},
   "outputs": [
    {
     "data": {
      "text/plain": [
       "dict_keys(['loss', 'mae'])"
      ]
     },
     "execution_count": 38,
     "metadata": {},
     "output_type": "execute_result"
    }
   ],
   "source": [
    "history.history.keys()"
   ]
  },
  {
   "cell_type": "code",
   "execution_count": 39,
   "id": "62f769e1",
   "metadata": {},
   "outputs": [
    {
     "data": {
      "text/plain": [
       "[2.104081153869629, 2.4482250213623047, 2.8135740756988525, 2.208004951477051]"
      ]
     },
     "execution_count": 39,
     "metadata": {},
     "output_type": "execute_result"
    }
   ],
   "source": [
    "all_scores #2.2 부터 2.6까지 변화"
   ]
  },
  {
   "cell_type": "code",
   "execution_count": 40,
   "id": "9d23d581",
   "metadata": {},
   "outputs": [
    {
     "data": {
      "text/plain": [
       "2.3934713006019592"
      ]
     },
     "execution_count": 40,
     "metadata": {},
     "output_type": "execute_result"
    }
   ],
   "source": [
    "np.mean(all_scores) #평균 : 2.4 >>  평균적으로 2400달러 차이가 남"
   ]
  },
  {
   "cell_type": "code",
   "execution_count": 41,
   "id": "83f0db8b",
   "metadata": {},
   "outputs": [
    {
     "name": "stdout",
     "output_type": "stream",
     "text": [
      "처리 중인 폴드 : #0\n",
      "처리 중인 폴드 : #1\n",
      "처리 중인 폴드 : #2\n",
      "처리 중인 폴드 : #3\n"
     ]
    }
   ],
   "source": [
    "num_epochs = 500 #epochs = 500으로 늘려본다.\n",
    "all_mae_histories = []\n",
    "for i in range(k):\n",
    "    print(\"처리 중인 폴드 : #{}\".format(i)) \n",
    "    val_data = train_data[i * num_val_samples : (i+1)*num_val_samples] #검증 데이터 준비 : k번째 분할\n",
    "    val_targets = train_targets[i * num_val_samples : (i+1) * num_val_samples]\n",
    "    \n",
    "    partial_train_data = np.concatenate(              #훈련 데이터 준비 : 다른 분할 전체\n",
    "        [train_data[:i * num_val_samples], \n",
    "         train_data[(i+1) * num_val_samples:]], axis = 0)\n",
    "    \n",
    "    partial_train_targets = np.concatenate(\n",
    "        [train_targets[:i * num_val_samples], \n",
    "         train_targets[(i+1) * num_val_samples:]], axis = 0)\n",
    "    \n",
    "    model = build_model() \n",
    "    history = model.fit(partial_train_data, partial_train_targets, \n",
    "                        validation_data = (val_data, val_targets),\n",
    "                        epochs = num_epochs, batch_size = 1, verbose = 0) #verbose 가 0이면 훈련과정 출력 x\n",
    "    mae_history = history.history['mae']\n",
    "    \n",
    "    all_mae_histories.append(mae_history)"
   ]
  },
  {
   "cell_type": "code",
   "execution_count": 47,
   "id": "78ee0126",
   "metadata": {},
   "outputs": [],
   "source": [
    "average_mae_histories = [\n",
    "    np.mean([x[i] for x in all_mae_histories]) for i in range(num_epochs)\n",
    "]"
   ]
  },
  {
   "cell_type": "code",
   "execution_count": 48,
   "id": "74ed84cb",
   "metadata": {},
   "outputs": [],
   "source": [
    "import matplotlib.pyplot as plt"
   ]
  },
  {
   "cell_type": "code",
   "execution_count": 50,
   "id": "135075eb",
   "metadata": {},
   "outputs": [
    {
     "data": {
      "image/png": "[encoded data removed]",
      "text/plain": [
       "<Figure size 432x288 with 1 Axes>"
      ]
     },
     "metadata": {
      "needs_background": "light"
     },
     "output_type": "display_data"
    }
   ],
   "source": [
    "plt.plot(range(1, len(average_mae_histories)+1), average_mae_histories)\n",
    "plt.xlabel('Epochs')\n",
    "plt.ylabel('Validation_mae')\n",
    "plt.show()"
   ]
  },
  {
   "cell_type": "markdown",
   "id": "74583bcf",
   "metadata": {},
   "source": [
    "**곡선의 다른 부분과 스케일이 다른 10개의 데이터 제외**"
   ]
  },
  {
   "cell_type": "code",
   "execution_count": 52,
   "id": "da47d242",
   "metadata": {},
   "outputs": [],
   "source": [
    "def smooth_curve(points, factor = 0.9):\n",
    "    smoothed_points = []\n",
    "    for point in points:\n",
    "        if smoothed_points:\n",
    "            previous = smoothed_points[-1]\n",
    "            smoothed_points.append(previous * factor + point * (1-factor))\n",
    "        else:\n",
    "            smoothed_points.append(point)\n",
    "    return smoothed_points"
   ]
  },
  {
   "cell_type": "code",
   "execution_count": 56,
   "id": "4d7676ac",
   "metadata": {},
   "outputs": [
    {
     "data": {
      "image/png": "[encoded data removed]",
      "text/plain": [
       "<Figure size 432x288 with 1 Axes>"
      ]
     },
     "metadata": {
      "needs_background": "light"
     },
     "output_type": "display_data"
    }
   ],
   "source": [
    "smooth_mae_history = smooth_curve(average_mae_histories[10:])\n",
    "\n",
    "plt.plot(range(1, len(smooth_mae_history)+1), smooth_mae_history)\n",
    "plt.xlabel('Epochs')\n",
    "plt.ylabel('Validation_mae')\n",
    "plt.show()"
   ]
  }
 ],
 "metadata": {
  "kernelspec": {
   "display_name": "Python 3",
   "language": "python",
   "name": "python3"
  },
  "language_info": {
   "codemirror_mode": {
    "name": "ipython",
    "version": 3
   },
   "file_extension": ".py",
   "mimetype": "text/x-python",
   "name": "python",
   "nbconvert_exporter": "python",
   "pygments_lexer": "ipython3",
   "version": "3.8.8"
  }
 },
 "nbformat": 4,
 "nbformat_minor": 5
}
