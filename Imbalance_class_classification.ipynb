{
 "cells": [
  {
   "cell_type": "markdown",
   "id": "a1cda455",
   "metadata": {},
   "source": [
    "# 이상치 탐지\n",
    "\n",
    "## 불균형 데이터 셋\n",
    "\n",
    "### 참조 : https://dacon.io/competitions/official/235894/codeshare/4971?page=2&dtype=recent"
   ]
  },
  {
   "cell_type": "markdown",
   "id": "6103df02",
   "metadata": {},
   "source": [
    "#### 라이브러리 임포트하기"
   ]
  },
  {
   "cell_type": "code",
   "execution_count": 7,
   "id": "dff4d769",
   "metadata": {},
   "outputs": [],
   "source": [
    "import warnings\n",
    "warnings.filterwarnings('ignore')\n",
    "\n",
    "from glob import glob\n",
    "import pandas as pd\n",
    "import numpy as np \n",
    "from tqdm import tqdm\n",
    "import cv2 as cv\n",
    "import timm\n",
    "import os\n",
    "import random\n",
    "\n",
    "import torch\n",
    "from torch.utils.data import Dataset, DataLoader\n",
    "import torch.nn as nn\n",
    "import torchvision.transforms as transforms\n",
    "from sklearn.metrics import f1_score, accuracy_score\n",
    "import time"
   ]
  },
  {
   "cell_type": "markdown",
   "id": "1bc52b5c",
   "metadata": {},
   "source": [
    "## 데이터 준비"
   ]
  },
  {
   "cell_type": "code",
   "execution_count": 9,
   "id": "73b05eef",
   "metadata": {},
   "outputs": [
    {
     "data": {
      "text/html": [
       "<div>\n",
       "<style scoped>\n",
       "    .dataframe tbody tr th:only-of-type {\n",
       "        vertical-align: middle;\n",
       "    }\n",
       "\n",
       "    .dataframe tbody tr th {\n",
       "        vertical-align: top;\n",
       "    }\n",
       "\n",
       "    .dataframe thead th {\n",
       "        text-align: right;\n",
       "    }\n",
       "</style>\n",
       "<table border=\"1\" class=\"dataframe\">\n",
       "  <thead>\n",
       "    <tr style=\"text-align: right;\">\n",
       "      <th></th>\n",
       "      <th>index</th>\n",
       "      <th>file_name</th>\n",
       "      <th>class</th>\n",
       "      <th>state</th>\n",
       "      <th>label</th>\n",
       "    </tr>\n",
       "  </thead>\n",
       "  <tbody>\n",
       "    <tr>\n",
       "      <th>0</th>\n",
       "      <td>0</td>\n",
       "      <td>10000.png</td>\n",
       "      <td>transistor</td>\n",
       "      <td>good</td>\n",
       "      <td>transistor-good</td>\n",
       "    </tr>\n",
       "    <tr>\n",
       "      <th>1</th>\n",
       "      <td>1</td>\n",
       "      <td>10001.png</td>\n",
       "      <td>capsule</td>\n",
       "      <td>good</td>\n",
       "      <td>capsule-good</td>\n",
       "    </tr>\n",
       "    <tr>\n",
       "      <th>2</th>\n",
       "      <td>2</td>\n",
       "      <td>10002.png</td>\n",
       "      <td>transistor</td>\n",
       "      <td>good</td>\n",
       "      <td>transistor-good</td>\n",
       "    </tr>\n",
       "    <tr>\n",
       "      <th>3</th>\n",
       "      <td>3</td>\n",
       "      <td>10003.png</td>\n",
       "      <td>wood</td>\n",
       "      <td>good</td>\n",
       "      <td>wood-good</td>\n",
       "    </tr>\n",
       "    <tr>\n",
       "      <th>4</th>\n",
       "      <td>4</td>\n",
       "      <td>10004.png</td>\n",
       "      <td>bottle</td>\n",
       "      <td>good</td>\n",
       "      <td>bottle-good</td>\n",
       "    </tr>\n",
       "  </tbody>\n",
       "</table>\n",
       "</div>"
      ],
      "text/plain": [
       "   index  file_name       class state            label\n",
       "0      0  10000.png  transistor  good  transistor-good\n",
       "1      1  10001.png     capsule  good     capsule-good\n",
       "2      2  10002.png  transistor  good  transistor-good\n",
       "3      3  10003.png        wood  good        wood-good\n",
       "4      4  10004.png      bottle  good      bottle-good"
      ]
     },
     "execution_count": 9,
     "metadata": {},
     "output_type": "execute_result"
    }
   ],
   "source": [
    "train_y = pd.read_csv(\"C:/Users/choij/Desktop/datasets/open/open/train_df.csv\")\n",
    "train_labels = train_y['label']\n",
    "\n",
    "train_y.head() "
   ]
  },
  {
   "cell_type": "markdown",
   "id": "cbc10ebf",
   "metadata": {},
   "source": [
    "## 라벨 전처리"
   ]
  },
  {
   "cell_type": "code",
   "execution_count": 10,
   "id": "b07fa9dc",
   "metadata": {
    "scrolled": false
   },
   "outputs": [
    {
     "data": {
      "text/plain": [
       "4277"
      ]
     },
     "execution_count": 10,
     "metadata": {},
     "output_type": "execute_result"
    }
   ],
   "source": [
    "label_unique = sorted(np.unique(train_labels)) # 88개의 라벨\n",
    "label_unique = {key:value for key, value in zip(label_unique, range(len(label_unique)))}\n",
    "# 각 라벨 별로 번호 붙이기. 88개의 라벨 있음을 확인\n",
    "train_labels = [label_unique[k] for k in train_labels]\n",
    "len(train_labels) # 4277개의 훈련 데이터"
   ]
  },
  {
   "cell_type": "code",
   "execution_count": 11,
   "id": "052f4ba6",
   "metadata": {},
   "outputs": [],
   "source": [
    "train_dir = \"C:/Users/choij/Desktop/datasets/open/open/train/train\"\n",
    "test_dir = \"C:/Users/choij/Desktop/datasets/open/open/test/test\""
   ]
  },
  {
   "cell_type": "markdown",
   "id": "8a87d63d",
   "metadata": {},
   "source": [
    "## 이미지 전처리"
   ]
  },
  {
   "cell_type": "code",
   "execution_count": 19,
   "id": "40d2dde4",
   "metadata": {},
   "outputs": [],
   "source": [
    "train_png = sorted(glob(train_dir + '/*.png'))  # 폴더 안에 있는 모든 이미지들 리스트에 넣음\n",
    "test_png =  sorted(glob(test_dir + '/*.png'))"
   ]
  },
  {
   "cell_type": "code",
   "execution_count": 20,
   "id": "12215f4c",
   "metadata": {},
   "outputs": [
    {
     "data": {
      "text/plain": [
       "4277"
      ]
     },
     "execution_count": 20,
     "metadata": {},
     "output_type": "execute_result"
    }
   ],
   "source": [
    "len(train_png) # 4277개의 이미지 리스트"
   ]
  },
  {
   "cell_type": "code",
   "execution_count": 21,
   "id": "57c6c50c",
   "metadata": {},
   "outputs": [],
   "source": [
    "train_img = [] # 새로운 이미지 리스트\n",
    "test_img = []  # 주소에 맞게 replace 활용해서 변환\n",
    "for i in train_png:\n",
    "    img = i.replace('\\\\', '/')\n",
    "    train_img.append(img)\n",
    "\n",
    "for i in test_png:\n",
    "    img = i.replace('\\\\', '/')\n",
    "    test_img.append(img) "
   ]
  },
  {
   "cell_type": "code",
   "execution_count": 22,
   "id": "0e5bc079",
   "metadata": {},
   "outputs": [],
   "source": [
    "def img_resize(path): # 이미지 크기 변환\n",
    "    img = cv.imread(path)[:,:,::-1] # 마지막 순서 바꾸는 이유 : RGB형태로 변환 위해(처음에는 BGR)\n",
    "    img = cv.resize(img, (224, 224)) # 크기 (224, 224) 로 변환\n",
    "    return img"
   ]
  },
  {
   "cell_type": "code",
   "execution_count": 23,
   "id": "5f547d0c",
   "metadata": {},
   "outputs": [],
   "source": [
    "train_img = [img_resize(img) for img in train_img] #이미지 변환 함수 적용\n",
    "test_img = [img_resize(img) for img in test_img]"
   ]
  },
  {
   "cell_type": "code",
   "execution_count": 24,
   "id": "effe4d6c",
   "metadata": {
    "scrolled": true
   },
   "outputs": [
    {
     "name": "stdout",
     "output_type": "stream",
     "text": [
      "(224, 224, 3)\n",
      "(224, 224, 3)\n"
     ]
    }
   ],
   "source": [
    "print(train_img[0].shape) #(224,224,3) 의 이미지로 변환되었음을 확인\n",
    "print(test_img[0].shape)"
   ]
  },
  {
   "cell_type": "markdown",
   "id": "2df2bd3e",
   "metadata": {},
   "source": [
    "## 모델 정의 및 데이터 증강"
   ]
  },
  {
   "cell_type": "code",
   "execution_count": 25,
   "id": "6f732654",
   "metadata": {},
   "outputs": [],
   "source": [
    "class Custom_dataset(Dataset): #파이토치의 Dataset 클래스 상속받는 나만의 데이터셋 정의\n",
    "    def __init__(self, img_path, labels, mode = 'train'): \n",
    "        self.img_path = img_path  # 기존 이미지와 라벨들 정의\n",
    "        self.labels = labels\n",
    "        self.mode = mode # 기본값을 train으로 받는다.\n",
    "    \n",
    "    def __len__(self):\n",
    "        return len(self.img_path)\n",
    "    \n",
    "    def __getitem__(self, idx):\n",
    "        img = self.img_path[idx] #각각의 이미지 불러들임\n",
    "        if self.mode == 'train': #만약 들어오는 데이터셋이 훈련 데이터라면 \n",
    "            augmentation = random.randint(0,8) # 데이터 증강을 위해 따로 정의한 코드같다.\n",
    "            if augmentation < 3:\n",
    "                pass\n",
    "            \n",
    "            elif augmentation == 3:\n",
    "                img = cv.rotate(img, cv.ROTATE_90_CLOCKWISE)\n",
    "            \n",
    "            elif augmentation == 4:\n",
    "                img = cv.rotate(img, cv.ROTATE_90_CLOCKWISE)\n",
    "            \n",
    "            elif augmentation == 5:\n",
    "                img = img[::-1].copy()\n",
    "                \n",
    "            elif augmentation == 6:\n",
    "                img = img[:,::-1].copy()\n",
    "            \n",
    "            elif augmentation == 7:\n",
    "                img = img[::-1,::-1,:].copy()\n",
    "        \n",
    "        img = transforms.ToTensor()(img)\n",
    "        if self.mode == 'test': #만약 훈련 데이터셋이 아니라면 데이터증강은 하지 않는다.\n",
    "            pass\n",
    "        \n",
    "        label = self.labels[idx]\n",
    "        \n",
    "        return img, label # 각각의 이미지와 라벨을 리턴한다."
   ]
  },
  {
   "cell_type": "markdown",
   "id": "25a85cdb",
   "metadata": {},
   "source": [
    "### Custom Dataset 사용하는 이유:\n",
    "\n",
    "#### 방대한 양의 데이터를 한 번에 불러오기 쉽지 않기 때문에 데이터를 하나씩만 불러서 쓰는 방식 써야함\n",
    "\n",
    "#### 모든 데이터 불러놓고 사용하는 기존 Dataset 말고 Custom Dataset 필요\n",
    "\n",
    "#### from troch.utils.data import Dataset 통해 불러온 후 x와 y를 tensor 로 넣어주면 됨\n",
    "\n",
    "#### 파이토치의 dataset : 샘플과 정답을 저장하고\n",
    "\n",
    "#### dataloader 쉽게 접근할 수 있도록 순회 가능한(iterable)객체로 감싼다\n",
    "\n",
    "#### Custom Dataset 만들 때 __getitem__, __len__, __init__ 반드시 구현"
   ]
  },
  {
   "cell_type": "code",
   "execution_count": 26,
   "id": "4388a6ea",
   "metadata": {},
   "outputs": [],
   "source": [
    "import torchvision"
   ]
  },
  {
   "cell_type": "code",
   "execution_count": 27,
   "id": "8aa38ffc",
   "metadata": {},
   "outputs": [
    {
     "data": {
      "text/plain": [
       "'C:/Users/choij/Desktop/datasets/open/open/train/small_train'"
      ]
     },
     "execution_count": 27,
     "metadata": {},
     "output_type": "execute_result"
    }
   ],
   "source": [
    "train_dir = 'C:/Users/choij/Desktop/datasets/open/open/train/small_train'\n",
    "train_dir"
   ]
  },
  {
   "cell_type": "code",
   "execution_count": null,
   "id": "b2d5198e",
   "metadata": {},
   "outputs": [],
   "source": [
    "##############################"
   ]
  },
  {
   "cell_type": "markdown",
   "id": "282f2395",
   "metadata": {},
   "source": [
    "### 만약 이미지들을 각 폴더로 저장하고 깔끔하게 분류했다면 아래와 같은 방법도 사용 가능"
   ]
  },
  {
   "cell_type": "code",
   "execution_count": 42,
   "id": "d8ea3d64",
   "metadata": {},
   "outputs": [
    {
     "data": {
      "text/plain": [
       "685"
      ]
     },
     "execution_count": 42,
     "metadata": {},
     "output_type": "execute_result"
    }
   ],
   "source": [
    "transf = transforms.Compose([transforms.Resize(224), transforms.ToTensor()]) # 224 로 크기 설정, tensor로 변환하는 양식 저장\n",
    "\n",
    "trainset = torchvision.datasets.ImageFolder(root = train_dir, transform = transf) #이미지들 있는 폴더, 변환 양식\n",
    "trainloader = DataLoader(trainset, batch_size = 5, shuffle = False, num_workers = 2) # trainloader 로 배치사이즈, 셔플유무 결정\n",
    "\n",
    "len(trainloader)"
   ]
  },
  {
   "cell_type": "code",
   "execution_count": 44,
   "id": "c7825fbf",
   "metadata": {},
   "outputs": [
    {
     "data": {
      "text/plain": [
       "torch.Size([3, 224, 224])"
      ]
     },
     "execution_count": 44,
     "metadata": {},
     "output_type": "execute_result"
    }
   ],
   "source": [
    "trainset[0][0].size() # 이런 식으로 dataloader 이용하여 전처리 가능"
   ]
  },
  {
   "cell_type": "code",
   "execution_count": null,
   "id": "6b477bcb",
   "metadata": {},
   "outputs": [],
   "source": [
    "####################################"
   ]
  },
  {
   "cell_type": "code",
   "execution_count": 30,
   "id": "12b177cf",
   "metadata": {},
   "outputs": [],
   "source": [
    "class Model(nn.Module): # nn.Module 상속\n",
    "    def __init__(self):\n",
    "        super(Model, self).__init__() ## Module의 init 상속\n",
    "        self.model = timm.create_model('efficientnet_b3', #timm 라이브러리 이용하여 훈련된 데이터셋 가져온다.\n",
    "                                       pretrained = True, num_classes = len(label_unique))\n",
    "    def forward(self, x):\n",
    "        x = self.model(x) # 훈련된 데이터셋을 더한다.\n",
    "        return x"
   ]
  },
  {
   "cell_type": "code",
   "execution_count": 28,
   "id": "28b766fa",
   "metadata": {},
   "outputs": [],
   "source": [
    "batch_size = 64  # 배치 사이즈 결정\n",
    "\n",
    "train_dataset = Custom_dataset(np.array(train_img), np.array(train_labels), mode = 'train') #훈련 데이터\n",
    "train_loader = DataLoader(train_dataset, shuffle = True, batch_size = batch_size) #훈련 dataloader\n",
    "\n",
    "test_dataset = Custom_dataset(np.array(test_img), np.array(['tmp'] * len(test_img)), mode = 'test') #실험데이터\n",
    "test_loader = DataLoader(test_dataset, shuffle = False, batch_size = batch_size)#실험 dataloader"
   ]
  },
  {
   "cell_type": "code",
   "execution_count": 31,
   "id": "a0c4a602",
   "metadata": {},
   "outputs": [],
   "source": [
    "model = Model() # 모델 객체 생성\n",
    "\n",
    "optimizer = torch.optim.AdamW(model.parameters(), lr = 1.0e-4)\n",
    "criterion = nn.CrossEntropyLoss()\n",
    "scaler = torch.cuda.amp.GradScaler() #amp :automatic mixed "
   ]
  },
  {
   "cell_type": "markdown",
   "id": "508c60dc",
   "metadata": {},
   "source": [
    "### amp : Automatic Mixed Precision 줄임말\n",
    "\n",
    "### amp를 쓰면 gpu메모리 소모 줄고 연산속도가 빨라진다\n",
    "\n",
    "### 이유: 행렬 곱을 더 효율적으로 하게 만든다.\n",
    "\n",
    "### ex.다른 행렬 끼리의 연산에서도 dtype을 변환해주어 신경망의 runtime 과 memory줄인다."
   ]
  },
  {
   "cell_type": "markdown",
   "id": "2c73b8d1",
   "metadata": {},
   "source": [
    "## 정확도 점수 함수 정의"
   ]
  },
  {
   "cell_type": "code",
   "execution_count": 32,
   "id": "2d1adce3",
   "metadata": {},
   "outputs": [],
   "source": [
    "def score_function(real, pred):\n",
    "    score = f1_score(real, pred, average = 'macro')\n",
    "    return score"
   ]
  },
  {
   "cell_type": "code",
   "execution_count": 39,
   "id": "61901477",
   "metadata": {
    "scrolled": true
   },
   "outputs": [
    {
     "name": "stdout",
     "output_type": "stream",
     "text": [
      "epoch : 1/3    time : 2281s/4561s\n",
      "TRAIN    loss : 0.30766    f1 : 0.61397\n",
      "epoch : 2/3    time : 2258s/2258s\n",
      "TRAIN    loss : 0.22233    f1 : 0.70943\n",
      "epoch : 3/3    time : 2260s/0s\n",
      "TRAIN    loss : 0.18242    f1 : 0.77142\n"
     ]
    }
   ],
   "source": [
    "epochs = 3 #3번 반복(cpu라서 시간이 너무 오래걸린다)\n",
    "\n",
    "for epoch in range(epochs):\n",
    "    start = time.time() #시간 측정\n",
    "    train_loss = 0 #훈련 손실값 각 에포크 마다 정의\n",
    "    train_pred = []#훈련 예측값 \n",
    "    train_y = [] #\n",
    "    model.train() # 모델이 훈련할 수 있도록 train mode 로 변환\n",
    "    \n",
    "    for batch in (train_loader): # 각 배치사이즈마다 훈련시작.여기서는 64\n",
    "        optimizer.zero_grad() #기울기 초기화\n",
    "        x = torch.tensor(batch[0], dtype = torch.float32) #각 batch[0]은 x데이터, batch[1]은 y데이터이다.\n",
    "        y = torch.tensor(batch[1], dtype = torch.long)\n",
    "        with torch.cuda.amp.autocast():\n",
    "            pred = model(x) # x값에 대해 pred값 저장(출력값이 softmax이다.)\n",
    "        loss = criterion(pred, y) # pred값과 실제 y값에 대해서 crossentropy 손실함수 측정\n",
    "        \n",
    "        scaler.scale(loss).backward() # 손실에 대하여 역전파 실행하기\n",
    "        scaler.step(optimizer) #최적화 함수 적용하기. 여기서는 Adam 적용\n",
    "        scaler.update() # 가중치 업데이트\n",
    "        # 모든 계산들은 amp를 통해 이루어지는 걸 확인할 수 있다.\n",
    "        \n",
    "        train_loss += loss.item() / len(train_loader) #로스 값 각 에포크마다 저장해주기\n",
    "        train_pred += pred.argmax(1).detach().cpu().numpy().tolist() # 예측값에서 가장 높은 값 리스트에 저장하기\n",
    "        train_y += y.detach().cpu().numpy().tolist() # 실제 y값 복사\n",
    "        \n",
    "    train_f1 = score_function(train_y, train_pred) # 예측값과 실제 y값과 비교를 통해 정확도 산출\n",
    "    \n",
    "    Time = time.time() - start\n",
    "    \n",
    "    print(f'epoch : {epoch+1}/{epochs}    time : {Time:.0f}s/{Time*(epochs-epoch-1):.0f}s')\n",
    "    print(f'TRAIN    loss : {train_loss:.5f}    f1 : {train_f1:.5f}')"
   ]
  },
  {
   "cell_type": "markdown",
   "id": "08040777",
   "metadata": {},
   "source": [
    "## 3번의 훈련 끝에 0.77의 정확도가 나왔음을 알 수 있다."
   ]
  },
  {
   "cell_type": "markdown",
   "id": "4b754af1",
   "metadata": {},
   "source": [
    "## 테스트해보기"
   ]
  },
  {
   "cell_type": "code",
   "execution_count": 41,
   "id": "7dac466f",
   "metadata": {},
   "outputs": [],
   "source": [
    "model.eval() #모델 test 모드로 변경\n",
    "f_pred = [] #테스트 예측값 담아줄 리스트\n",
    "\n",
    "with torch.no_grad(): #테스트 데이터이므로 미분x\n",
    "    for batch in (test_loader): #테스트 dataloader반복문 통해 각 batch불러온다\n",
    "        x = torch.tensor(batch[0], dtype = torch.float32, device = 'cpu') #\n",
    "        with torch.cuda.amp.autocast():\n",
    "            pred = model(x) #x값에 대해 예측 값(softmax값이 들어가있으므로 각 클래스에 속할 확률들이 들어가있.)\n",
    "        f_pred.extend(pred.argmax(1).detach().cpu().numpy().tolist()) #각 확률값에서 가장 높은 값 선택해서 리스트로 넣어준다."
   ]
  },
  {
   "cell_type": "code",
   "execution_count": 44,
   "id": "5a05c9d1",
   "metadata": {},
   "outputs": [],
   "source": [
    "label_decoder = {val:key for key, val in label_unique.items()}\n",
    "\n",
    "f_result = [label_decoder[result] for result in f_pred]\n",
    "\n",
    "submission = pd.read_csv(\"C:/Users/choij/Desktop/datasets/open/open/sample_submission.csv\")\n",
    "\n",
    "submission['label'] = f_result\n",
    "\n",
    "submission.to_csv('submission.csv', index = False)"
   ]
  },
  {
   "cell_type": "code",
   "execution_count": 55,
   "id": "80abefba",
   "metadata": {},
   "outputs": [
    {
     "data": {
      "text/plain": [
       "0        tile-glue_strip\n",
       "1              grid-good\n",
       "2        transistor-good\n",
       "3       tile-gray_stroke\n",
       "4              tile-good\n",
       "              ...       \n",
       "2149    tile-gray_stroke\n",
       "2150          screw-good\n",
       "2151           grid-good\n",
       "2152          cable-good\n",
       "2153         zipper-good\n",
       "Name: label, Length: 2154, dtype: object"
      ]
     },
     "execution_count": 55,
     "metadata": {},
     "output_type": "execute_result"
    }
   ],
   "source": [
    "su = pd.read_csv('C:/Users/choij/submission.csv')\n",
    "su['label']"
   ]
  }
 ],
 "metadata": {
  "kernelspec": {
   "display_name": "Python 3",
   "language": "python",
   "name": "python3"
  },
  "language_info": {
   "codemirror_mode": {
    "name": "ipython",
    "version": 3
   },
   "file_extension": ".py",
   "mimetype": "text/x-python",
   "name": "python",
   "nbconvert_exporter": "python",
   "pygments_lexer": "ipython3",
   "version": "3.8.8"
  }
 },
 "nbformat": 4,
 "nbformat_minor": 5
}
